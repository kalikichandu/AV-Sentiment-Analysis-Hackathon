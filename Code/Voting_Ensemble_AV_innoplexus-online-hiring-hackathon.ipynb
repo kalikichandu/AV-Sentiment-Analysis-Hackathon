{
 "cells": [
  {
   "cell_type": "code",
   "execution_count": 34,
   "metadata": {
    "collapsed": true
   },
   "outputs": [],
   "source": [
    "import pandas as pd\n",
    "import numpy as np\n",
    "from scipy import stats"
   ]
  },
  {
   "cell_type": "code",
   "execution_count": 26,
   "metadata": {},
   "outputs": [
    {
     "data": {
      "text/plain": [
       "'F:\\\\Data\\\\AV_Innoplex_NLP_sentiment_Analysis'"
      ]
     },
     "execution_count": 26,
     "metadata": {},
     "output_type": "execute_result"
    }
   ],
   "source": [
    "pwd"
   ]
  },
  {
   "cell_type": "code",
   "execution_count": 5,
   "metadata": {},
   "outputs": [
    {
     "name": "stdout",
     "output_type": "stream",
     "text": [
      "F:\\Data\\AV_Innoplex_NLP_sentiment_Analysis\n"
     ]
    }
   ],
   "source": [
    "cd .."
   ]
  },
  {
   "cell_type": "code",
   "execution_count": 54,
   "metadata": {
    "collapsed": true
   },
   "outputs": [],
   "source": [
    " "
   ]
  },
  {
   "cell_type": "code",
   "execution_count": 28,
   "metadata": {
    "collapsed": true
   },
   "outputs": [],
   "source": [
    "pred_1 = pd.read_csv('predictions/Submission_fastai_v3.csv')\n",
    "pred_2 = pd.read_csv('predictions/submission_fastai_v1_kaggle.csv')\n",
    "pred_3 = pd.read_csv('predictions/submission_fastai_v3_kaggle.csv')\n",
    "pred_4 = pd.read_csv('predictions/submission_v2_kaggle.csv')"
   ]
  },
  {
   "cell_type": "code",
   "execution_count": 32,
   "metadata": {},
   "outputs": [
    {
     "data": {
      "text/plain": [
       "2"
      ]
     },
     "execution_count": 32,
     "metadata": {},
     "output_type": "execute_result"
    }
   ],
   "source": [
    "pred_1['sentiment'][0]"
   ]
  },
  {
   "cell_type": "code",
   "execution_count": 49,
   "metadata": {},
   "outputs": [
    {
     "data": {
      "text/plain": [
       "array([2], dtype=int64)"
      ]
     },
     "execution_count": 49,
     "metadata": {},
     "output_type": "execute_result"
    }
   ],
   "source": [
    "stats.mode([pred_1['sentiment'][0], pred_2['sentiment'][0], pred_3['sentiment'][0],pred_4['sentiment'][0]])[0]"
   ]
  },
  {
   "cell_type": "code",
   "execution_count": 55,
   "metadata": {},
   "outputs": [],
   "source": [
    "final_pred = np.array([])   \n",
    "for i in range(0,len(pred_1)):\n",
    "    final_pred = np.append(final_pred, stats.mode([pred_1['sentiment'][i], pred_2['sentiment'][i], pred_3['sentiment'][i],pred_4['sentiment'][i]])[0])    "
   ]
  },
  {
   "cell_type": "code",
   "execution_count": 56,
   "metadata": {},
   "outputs": [
    {
     "data": {
      "text/plain": [
       "2924"
      ]
     },
     "execution_count": 56,
     "metadata": {},
     "output_type": "execute_result"
    }
   ],
   "source": [
    "len(final_pred)"
   ]
  },
  {
   "cell_type": "code",
   "execution_count": 57,
   "metadata": {},
   "outputs": [
    {
     "data": {
      "text/plain": [
       "2    2624\n",
       "1     198\n",
       "0     102\n",
       "Name: sentiment, dtype: int64"
      ]
     },
     "execution_count": 57,
     "metadata": {},
     "output_type": "execute_result"
    }
   ],
   "source": [
    "sub = pd.read_csv('sampleSub/sample_submission_i5xnIZD.csv')\n",
    "sub.sentiment = final_pred.astype(int)\n",
    "sub.to_csv('predictions/'+'Ensemble_fasiai_v2_voting.csv', index=False)\n",
    "sub['sentiment'].value_counts()"
   ]
  },
  {
   "cell_type": "code",
   "execution_count": 10,
   "metadata": {},
   "outputs": [],
   "source": [
    "# preds_avg = (pred_1['sentiment'].values + pred_2['sentiment'].values + pred_3['sentiment'].values+ pred_4['sentiment'].values)/4"
   ]
  },
  {
   "cell_type": "code",
   "execution_count": null,
   "metadata": {},
   "outputs": [],
   "source": [
    "# preds_avg[0:30]"
   ]
  },
  {
   "cell_type": "code",
   "execution_count": 24,
   "metadata": {},
   "outputs": [
    {
     "data": {
      "text/plain": [
       "2    2673\n",
       "1     195\n",
       "0      56\n",
       "Name: sentiment, dtype: int64"
      ]
     },
     "execution_count": 24,
     "metadata": {},
     "output_type": "execute_result"
    }
   ],
   "source": [
    "# coef = [0.50,1.25]\n",
    "\n",
    "# for i, pred in enumerate(preds_avg):\n",
    "#     if pred <= coef[0]:\n",
    "#         preds_avg[i] = 0\n",
    "#     elif pred > coef[0] and pred <= coef[1]:\n",
    "#         preds_avg[i] = 1\n",
    "#     else:\n",
    "#         preds_avg[i] = 2\n",
    "\n",
    "# # write_submission(preds_avg,'Ensemble_fasiai_v1')\n",
    "\n",
    "# sub = pd.read_csv('sampleSub/sample_submission_i5xnIZD.csv')\n",
    "# sub.sentiment = preds_avg.astype(int)\n",
    "# sub.to_csv('predictions/'+'Ensemble_fasiai_v1.csv', index=False)\n",
    "# sub['sentiment'].value_counts()"
   ]
  },
  {
   "cell_type": "code",
   "execution_count": null,
   "metadata": {},
   "outputs": [],
   "source": [
    "# preds_class = np.argmax(preds_avg, axis=1)"
   ]
  },
  {
   "cell_type": "code",
   "execution_count": null,
   "metadata": {
    "collapsed": true
   },
   "outputs": [],
   "source": []
  }
 ],
 "metadata": {
  "kernelspec": {
   "display_name": "Python 3",
   "language": "python",
   "name": "python3"
  },
  "language_info": {
   "codemirror_mode": {
    "name": "ipython",
    "version": 3
   },
   "file_extension": ".py",
   "mimetype": "text/x-python",
   "name": "python",
   "nbconvert_exporter": "python",
   "pygments_lexer": "ipython3",
   "version": "3.6.3"
  }
 },
 "nbformat": 4,
 "nbformat_minor": 2
}
