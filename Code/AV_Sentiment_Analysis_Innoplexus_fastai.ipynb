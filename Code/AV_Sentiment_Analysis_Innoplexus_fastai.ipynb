{
 "cells": [
  {
   "cell_type": "code",
   "execution_count": 1,
   "metadata": {
    "id": "lH4SxLpnxGDz",
    "colab_type": "code",
    "outputId": "fdade8db-05dc-460b-cdf4-d4c298311340",
    "colab": {
     "base_uri": "https://localhost:8080/",
     "height": 34.0
    }
   },
   "outputs": [
    {
     "name": "stdout",
     "output_type": "stream",
     "text": [
      "Drive already mounted at /content/drive; to attempt to forcibly remount, call drive.mount(\"/content/drive\", force_remount=True).\n"
     ]
    }
   ],
   "source": [
    "# Load the Drive helper and mount\n",
    "from google.colab import drive\n",
    "\n",
    "# This will prompt for authorization.\n",
    "drive.mount('/content/drive')"
   ]
  },
  {
   "cell_type": "code",
   "execution_count": 2,
   "metadata": {
    "id": "H2LaQaguxVC-",
    "colab_type": "code",
    "outputId": "47531d6b-a0dc-4a23-bb03-8a25eede0bf3",
    "colab": {
     "base_uri": "https://localhost:8080/",
     "height": 34.0
    }
   },
   "outputs": [
    {
     "data": {
      "text/plain": [
       "'/content'"
      ]
     },
     "execution_count": 2,
     "metadata": {
      "tags": []
     },
     "output_type": "execute_result"
    }
   ],
   "source": [
    "pwd"
   ]
  },
  {
   "cell_type": "code",
   "execution_count": 3,
   "metadata": {
    "id": "j8YOBrnixalR",
    "colab_type": "code",
    "outputId": "f7133a93-de9e-40e3-dfe8-0734c552658c",
    "colab": {
     "base_uri": "https://localhost:8080/",
     "height": 34.0
    }
   },
   "outputs": [
    {
     "name": "stdout",
     "output_type": "stream",
     "text": [
      "/\n"
     ]
    }
   ],
   "source": [
    "cd .."
   ]
  },
  {
   "cell_type": "code",
   "execution_count": 4,
   "metadata": {
    "id": "6bUvWCAKxebn",
    "colab_type": "code",
    "outputId": "ec038221-2732-45a2-e48e-ed52f3e79eb4",
    "colab": {
     "base_uri": "https://localhost:8080/",
     "height": 34.0
    }
   },
   "outputs": [
    {
     "name": "stdout",
     "output_type": "stream",
     "text": [
      "/content/drive/My Drive/Projects_content/AV_Innoplex_NLP_sentiment_Analysis\n"
     ]
    }
   ],
   "source": [
    "cd content/drive/My Drive/Projects_content/AV_Innoplex_NLP_sentiment_Analysis"
   ]
  },
  {
   "cell_type": "code",
   "execution_count": 0,
   "metadata": {
    "id": "W6_A2WjBxoUo",
    "colab_type": "code",
    "colab": {}
   },
   "outputs": [],
   "source": [
    "from fastai.text import *\n",
    "from fastai.callbacks import *\n",
    "import numpy as np\n",
    "import pandas as pd\n",
    "from tqdm import tqdm"
   ]
  },
  {
   "cell_type": "code",
   "execution_count": 0,
   "metadata": {
    "id": "E7Iu7xlexj_T",
    "colab_type": "code",
    "colab": {}
   },
   "outputs": [],
   "source": [
    "seed = 7\n",
    "np.random.seed(seed)\n",
    "output_dir = 'model_output_fastai'\n",
    "if not os.path.exists(output_dir):\n",
    "    os.makedirs(output_dir)"
   ]
  },
  {
   "cell_type": "code",
   "execution_count": 7,
   "metadata": {
    "id": "VNd-ALn0zgoB",
    "colab_type": "code",
    "outputId": "f8f8bca3-3540-418a-b996-12d97d2de7b9",
    "colab": {
     "base_uri": "https://localhost:8080/",
     "height": 204.0
    }
   },
   "outputs": [
    {
     "data": {
      "text/html": [
       "<div>\n",
       "<style scoped>\n",
       "    .dataframe tbody tr th:only-of-type {\n",
       "        vertical-align: middle;\n",
       "    }\n",
       "\n",
       "    .dataframe tbody tr th {\n",
       "        vertical-align: top;\n",
       "    }\n",
       "\n",
       "    .dataframe thead th {\n",
       "        text-align: right;\n",
       "    }\n",
       "</style>\n",
       "<table border=\"1\" class=\"dataframe\">\n",
       "  <thead>\n",
       "    <tr style=\"text-align: right;\">\n",
       "      <th></th>\n",
       "      <th>unique_hash</th>\n",
       "      <th>text</th>\n",
       "      <th>drug</th>\n",
       "      <th>sentiment</th>\n",
       "    </tr>\n",
       "  </thead>\n",
       "  <tbody>\n",
       "    <tr>\n",
       "      <th>0</th>\n",
       "      <td>2e180be4c9214c1f5ab51fd8cc32bc80c9f612e0</td>\n",
       "      <td>Autoimmune diseases tend to come in clusters. ...</td>\n",
       "      <td>gilenya</td>\n",
       "      <td>2</td>\n",
       "    </tr>\n",
       "    <tr>\n",
       "      <th>1</th>\n",
       "      <td>9eba8f80e7e20f3a2f48685530748fbfa95943e4</td>\n",
       "      <td>I can completely understand why you’d want to ...</td>\n",
       "      <td>gilenya</td>\n",
       "      <td>2</td>\n",
       "    </tr>\n",
       "    <tr>\n",
       "      <th>2</th>\n",
       "      <td>fe809672251f6bd0d986e00380f48d047c7e7b76</td>\n",
       "      <td>Interesting that it only targets S1P-1/5 recep...</td>\n",
       "      <td>fingolimod</td>\n",
       "      <td>2</td>\n",
       "    </tr>\n",
       "    <tr>\n",
       "      <th>3</th>\n",
       "      <td>bd22104dfa9ec80db4099523e03fae7a52735eb6</td>\n",
       "      <td>Very interesting, grand merci. Now I wonder wh...</td>\n",
       "      <td>ocrevus</td>\n",
       "      <td>2</td>\n",
       "    </tr>\n",
       "    <tr>\n",
       "      <th>4</th>\n",
       "      <td>b227688381f9b25e5b65109dd00f7f895e838249</td>\n",
       "      <td>Hi everybody, My latest MRI results for Brain ...</td>\n",
       "      <td>gilenya</td>\n",
       "      <td>1</td>\n",
       "    </tr>\n",
       "  </tbody>\n",
       "</table>\n",
       "</div>"
      ],
      "text/plain": [
       "                                unique_hash  ... sentiment\n",
       "0  2e180be4c9214c1f5ab51fd8cc32bc80c9f612e0  ...         2\n",
       "1  9eba8f80e7e20f3a2f48685530748fbfa95943e4  ...         2\n",
       "2  fe809672251f6bd0d986e00380f48d047c7e7b76  ...         2\n",
       "3  bd22104dfa9ec80db4099523e03fae7a52735eb6  ...         2\n",
       "4  b227688381f9b25e5b65109dd00f7f895e838249  ...         1\n",
       "\n",
       "[5 rows x 4 columns]"
      ]
     },
     "execution_count": 7,
     "metadata": {
      "tags": []
     },
     "output_type": "execute_result"
    }
   ],
   "source": [
    "data = pd.read_csv('TrainSet/train_F3WbcTw.csv')\n",
    "data.head()"
   ]
  },
  {
   "cell_type": "code",
   "execution_count": 8,
   "metadata": {
    "id": "iL7ujDA7zkEL",
    "colab_type": "code",
    "outputId": "4f489ec8-f6b5-4eef-b638-57aa981e3a40",
    "colab": {
     "base_uri": "https://localhost:8080/",
     "height": 204.0
    }
   },
   "outputs": [
    {
     "data": {
      "text/html": [
       "<div>\n",
       "<style scoped>\n",
       "    .dataframe tbody tr th:only-of-type {\n",
       "        vertical-align: middle;\n",
       "    }\n",
       "\n",
       "    .dataframe tbody tr th {\n",
       "        vertical-align: top;\n",
       "    }\n",
       "\n",
       "    .dataframe thead th {\n",
       "        text-align: right;\n",
       "    }\n",
       "</style>\n",
       "<table border=\"1\" class=\"dataframe\">\n",
       "  <thead>\n",
       "    <tr style=\"text-align: right;\">\n",
       "      <th></th>\n",
       "      <th>unique_hash</th>\n",
       "      <th>text</th>\n",
       "      <th>drug</th>\n",
       "    </tr>\n",
       "  </thead>\n",
       "  <tbody>\n",
       "    <tr>\n",
       "      <th>0</th>\n",
       "      <td>9e9a8166b84114aca147bf409f6f956635034c08</td>\n",
       "      <td>256 (previously stable on natalizumab), with 5...</td>\n",
       "      <td>fingolimod</td>\n",
       "    </tr>\n",
       "    <tr>\n",
       "      <th>1</th>\n",
       "      <td>e747e6822c867571afe7b907b51f0f2ca67b0e1a</td>\n",
       "      <td>On fingolimod and have been since December 201...</td>\n",
       "      <td>fingolimod</td>\n",
       "    </tr>\n",
       "    <tr>\n",
       "      <th>2</th>\n",
       "      <td>50b6d851bcff4f35afe354937949e9948975adf7</td>\n",
       "      <td>Apparently it's shingles! :-/ I do have a few ...</td>\n",
       "      <td>humira</td>\n",
       "    </tr>\n",
       "    <tr>\n",
       "      <th>3</th>\n",
       "      <td>7f82ec2176ae6ab0b5d20b5ffc767ac829f384ae</td>\n",
       "      <td>If the Docetaxel doing once a week x3 weeks th...</td>\n",
       "      <td>tagrisso</td>\n",
       "    </tr>\n",
       "    <tr>\n",
       "      <th>4</th>\n",
       "      <td>8b37d169dee5bdae27060949242fb54feb6a7f7f</td>\n",
       "      <td>CC, Stelara worked in a matter of days for me....</td>\n",
       "      <td>stelara</td>\n",
       "    </tr>\n",
       "  </tbody>\n",
       "</table>\n",
       "</div>"
      ],
      "text/plain": [
       "                                unique_hash  ...        drug\n",
       "0  9e9a8166b84114aca147bf409f6f956635034c08  ...  fingolimod\n",
       "1  e747e6822c867571afe7b907b51f0f2ca67b0e1a  ...  fingolimod\n",
       "2  50b6d851bcff4f35afe354937949e9948975adf7  ...      humira\n",
       "3  7f82ec2176ae6ab0b5d20b5ffc767ac829f384ae  ...    tagrisso\n",
       "4  8b37d169dee5bdae27060949242fb54feb6a7f7f  ...     stelara\n",
       "\n",
       "[5 rows x 3 columns]"
      ]
     },
     "execution_count": 8,
     "metadata": {
      "tags": []
     },
     "output_type": "execute_result"
    }
   ],
   "source": [
    "test_df = pd.read_csv('TestSet/test_tOlRoBf.csv')\n",
    "test_df.head()"
   ]
  },
  {
   "cell_type": "code",
   "execution_count": 9,
   "metadata": {
    "id": "OF9RuGmyMiIl",
    "colab_type": "code",
    "outputId": "21f7e828-6874-4a98-8996-dc9a952cd05b",
    "colab": {
     "base_uri": "https://localhost:8080/",
     "height": 54.0
    }
   },
   "outputs": [
    {
     "data": {
      "text/plain": [
       "'Hi everybody, My latest MRI results for Brain and Cervical Cord are in and my next Neurologist appointment is in the next couple of weeks. There’re no new lesions in Brain/Cord and I’ve had no relapses while I was on Gilenya. This was a good sign. But there was one line in the cervical cord review that concerned me. It goes : “Lesions at C2-3 and T2 now show hypointensity on the post gadolinium T1 images only. This could represent artifact or early axonal loss.” That was bothersome to read. What are the kind of symptoms from C2-C3 lesion should I be aware of ? Would it result in change of my DMT ? Thanks.'"
      ]
     },
     "execution_count": 9,
     "metadata": {
      "tags": []
     },
     "output_type": "execute_result"
    }
   ],
   "source": [
    "data['text'][4]"
   ]
  },
  {
   "cell_type": "code",
   "execution_count": 10,
   "metadata": {
    "id": "P6WfMuhpeqnL",
    "colab_type": "code",
    "outputId": "72499976-982d-4ac2-ef91-03ec6bc79c06",
    "colab": {
     "base_uri": "https://localhost:8080/",
     "height": 204.0
    }
   },
   "outputs": [
    {
     "data": {
      "text/html": [
       "<div>\n",
       "<style scoped>\n",
       "    .dataframe tbody tr th:only-of-type {\n",
       "        vertical-align: middle;\n",
       "    }\n",
       "\n",
       "    .dataframe tbody tr th {\n",
       "        vertical-align: top;\n",
       "    }\n",
       "\n",
       "    .dataframe thead th {\n",
       "        text-align: right;\n",
       "    }\n",
       "</style>\n",
       "<table border=\"1\" class=\"dataframe\">\n",
       "  <thead>\n",
       "    <tr style=\"text-align: right;\">\n",
       "      <th></th>\n",
       "      <th>unique_hash</th>\n",
       "      <th>sentiment</th>\n",
       "    </tr>\n",
       "  </thead>\n",
       "  <tbody>\n",
       "    <tr>\n",
       "      <th>0</th>\n",
       "      <td>9e9a8166b84114aca147bf409f6f956635034c08</td>\n",
       "      <td>0</td>\n",
       "    </tr>\n",
       "    <tr>\n",
       "      <th>1</th>\n",
       "      <td>e747e6822c867571afe7b907b51f0f2ca67b0e1a</td>\n",
       "      <td>0</td>\n",
       "    </tr>\n",
       "    <tr>\n",
       "      <th>2</th>\n",
       "      <td>50b6d851bcff4f35afe354937949e9948975adf7</td>\n",
       "      <td>0</td>\n",
       "    </tr>\n",
       "    <tr>\n",
       "      <th>3</th>\n",
       "      <td>7f82ec2176ae6ab0b5d20b5ffc767ac829f384ae</td>\n",
       "      <td>0</td>\n",
       "    </tr>\n",
       "    <tr>\n",
       "      <th>4</th>\n",
       "      <td>8b37d169dee5bdae27060949242fb54feb6a7f7f</td>\n",
       "      <td>0</td>\n",
       "    </tr>\n",
       "  </tbody>\n",
       "</table>\n",
       "</div>"
      ],
      "text/plain": [
       "                                unique_hash  sentiment\n",
       "0  9e9a8166b84114aca147bf409f6f956635034c08          0\n",
       "1  e747e6822c867571afe7b907b51f0f2ca67b0e1a          0\n",
       "2  50b6d851bcff4f35afe354937949e9948975adf7          0\n",
       "3  7f82ec2176ae6ab0b5d20b5ffc767ac829f384ae          0\n",
       "4  8b37d169dee5bdae27060949242fb54feb6a7f7f          0"
      ]
     },
     "execution_count": 10,
     "metadata": {
      "tags": []
     },
     "output_type": "execute_result"
    }
   ],
   "source": [
    "sample_df = pd.read_csv('sampleSub/sample_submission_i5xnIZD.csv')\n",
    "sample_df.head()"
   ]
  },
  {
   "cell_type": "code",
   "execution_count": 11,
   "metadata": {
    "id": "4QHVMqVV43IE",
    "colab_type": "code",
    "outputId": "3b11116a-7484-4259-e058-c77ffe353e02",
    "colab": {
     "base_uri": "https://localhost:8080/",
     "height": 34.0
    }
   },
   "outputs": [
    {
     "data": {
      "text/plain": [
       "'/content/drive/My Drive/Projects_content/AV_Innoplex_NLP_sentiment_Analysis'"
      ]
     },
     "execution_count": 11,
     "metadata": {
      "tags": []
     },
     "output_type": "execute_result"
    }
   ],
   "source": [
    "pwd"
   ]
  },
  {
   "cell_type": "code",
   "execution_count": 12,
   "metadata": {
    "id": "J0N3A-CU09Ta",
    "colab_type": "code",
    "outputId": "323f2a00-761b-4639-e860-82f5afa03210",
    "colab": {
     "base_uri": "https://localhost:8080/",
     "height": 323.0
    }
   },
   "outputs": [
    {
     "data": {
      "text/html": [
       "<table border=\"1\" class=\"dataframe\">\n",
       "  <thead>\n",
       "    <tr style=\"text-align: right;\">\n",
       "      <th>idx</th>\n",
       "      <th>text</th>\n",
       "    </tr>\n",
       "  </thead>\n",
       "  <tbody>\n",
       "    <tr>\n",
       "      <td>0</td>\n",
       "      <td>) and i do n’t know if it will last a month , a year , a decade , i ve just decided to enjoy the ride , no point in worrying . xxbos i can completely understand why you ’d want to try it . xxmaj but , results reported in xxunk do n’t always stand up to the xxunk of peer - review during publication . xxmaj there</td>\n",
       "    </tr>\n",
       "    <tr>\n",
       "      <td>1</td>\n",
       "      <td>xxmaj greetings everyone . xxmaj newbie here . i was diagnosed xxup nsclc in xxmaj december 2017 when a lung mass was discovered on a xxup pet scan which was done for a workup of a xxup gyn malignancy . i had no symptoms . a mass of 1.5 by 2 cm in my r lung with hilar and xxunk nodes , a xxunk node , and xxunk nodes .</td>\n",
       "    </tr>\n",
       "    <tr>\n",
       "      <td>2</td>\n",
       "      <td>useful when discussing treatment options with your healthcare provider and advocating with insurers for access and coverage . xxmaj this paper was last updated in 2016 . xxmaj adhering to your disease - modifying medication is a key element of treatment effectiveness . xxmaj for help in managing the costs of these medications , read about the patient assistance programs offered by the pharmaceutical companies . xxmaj under certain circumstances</td>\n",
       "    </tr>\n",
       "    <tr>\n",
       "      <td>3</td>\n",
       "      <td>. xxmaj the new packaging has xxunk praise for not only being simple to use , but also xxunk . xxmaj the applicator is actually the product ’s cap , and comes in the form of a pull / push mechanism made from plastic . xxmaj according to xxup gsk global packaging development manager xxmaj xxunk xxmaj xxunk , the nature of this mechanism helps reduce xxunk risks , as</td>\n",
       "    </tr>\n",
       "    <tr>\n",
       "      <td>4</td>\n",
       "      <td>an anti - xxup tnf drug for treatment of perianal fistula or intestinal xxmaj crohn 's ... xxmaj added 9 months ago xxmaj study xxmaj to xxmaj test xxmaj whether xxup pf-00547659 xxmaj is xxmaj safe xxmaj and xxmaj improves xxmaj disease xxmaj symptoms xxmaj in xxmaj patients xxmaj with xxmaj crohn 's xxmaj disease ( xxup opera ) xxmaj adults with xxmaj crohn 's disease that is clinically active</td>\n",
       "    </tr>\n",
       "  </tbody>\n",
       "</table>"
      ],
      "text/plain": [
       "<IPython.core.display.HTML object>"
      ]
     },
     "metadata": {
      "tags": []
     },
     "output_type": "execute_result"
    }
   ],
   "source": [
    "data_lm = (TextList.from_csv(path='TrainSet/',csv_name='train_F3WbcTw.csv',cols='text')\n",
    "       .split_by_rand_pct()\n",
    "       .label_for_lm()\n",
    "       .databunch(bs=16)\n",
    "       )\n",
    "data_lm.save('tmp_lm')\n",
    "data_lm.show_batch()"
   ]
  },
  {
   "cell_type": "code",
   "execution_count": 13,
   "metadata": {
    "id": "CZ5QAmKYxlDL",
    "colab_type": "code",
    "outputId": "4784e51e-7e35-4155-fb4f-ea4417273a4a",
    "colab": {
     "base_uri": "https://localhost:8080/",
     "height": 340.0
    }
   },
   "outputs": [
    {
     "data": {
      "text/html": [
       "<table border=\"1\" class=\"dataframe\">\n",
       "  <thead>\n",
       "    <tr style=\"text-align: right;\">\n",
       "      <th>text</th>\n",
       "      <th>target</th>\n",
       "    </tr>\n",
       "  </thead>\n",
       "  <tbody>\n",
       "    <tr>\n",
       "      <td>xxbos xxmaj written xxmaj january 12 , 2018 xxmaj next : xxmaj let xxmaj us xxmaj try xxmaj home xxmaj ratings xxmaj rate this xxmaj summary xxmaj current xxmaj average xxmaj ratings xxmaj overall quality xxmaj avg : 0 / 5 xxmaj applies to topic xxmaj avg : 0 / 5 xxmaj helpful to me xxmaj avg : 0 / 5 xxmaj underwhelmed xxmaj total xxmaj avg xxmaj rating :</td>\n",
       "      <td>2</td>\n",
       "    </tr>\n",
       "    <tr>\n",
       "      <td>xxbos m protein xxmaj an antibody or part of an antibody found in unusually large amounts in the blood or urine of people with multiple myeloma and other types of plasma cell tumors . xxmaj also called monoclonal protein . m - xxup xxunk xxmaj minocycline - xxup xxunk . a substance being studied in the treatment of bacterial infections from catheters ( flexible tubes used to deliver fluids into</td>\n",
       "      <td>2</td>\n",
       "    </tr>\n",
       "    <tr>\n",
       "      <td>xxbos xxmaj the lungs are a pair of cone - shaped breathing organs in the chest . xxmaj the lungs bring oxygen into the body as you breathe in . xxmaj they release carbon dioxide , a waste product of the body ’s cells , as you breathe out . xxmaj each lung has sections called lobes . xxmaj the left lung has two lobes . xxmaj the right lung</td>\n",
       "      <td>2</td>\n",
       "    </tr>\n",
       "    <tr>\n",
       "      <td>xxbos . xxmaj immunotherapy . xxmaj checkpoint inhibitors . xxmaj anti – programmed cell death-1 ( xxup pd-1 ) and programmed death - ligand 1 ( xxup pd - xxup l1 ) . xxmaj pembrolizumab . xxmaj nivolumab . xxmaj anti – cytotoxic t - lymphocyte antigen-4 ( xxup ctla-4 ) . xxmaj ipilimumab . xxmaj high - dose interleukin-2 ( xxup il-2 ) . xxmaj dual immunomodulation . xxmaj</td>\n",
       "      <td>2</td>\n",
       "    </tr>\n",
       "    <tr>\n",
       "      <td>xxbos xxmaj childhood rhabdomyosarcoma is a disease in which malignant ( cancer ) cells form in muscle tissue . xxmaj certain genetic conditions increase the risk of childhood rhabdomyosarcoma . a sign of childhood rhabdomyosarcoma is a lump or swelling that keeps getting bigger . xxmaj diagnostic tests and a biopsy are used to detect ( find ) and diagnose childhood rhabdomyosarcoma . xxmaj certain factors affect prognosis ( chance</td>\n",
       "      <td>2</td>\n",
       "    </tr>\n",
       "  </tbody>\n",
       "</table>"
      ],
      "text/plain": [
       "<IPython.core.display.HTML object>"
      ]
     },
     "metadata": {
      "tags": []
     },
     "output_type": "execute_result"
    }
   ],
   "source": [
    "test_datalist = TextList.from_csv(path='TestSet/',csv_name='test_tOlRoBf.csv',cols='text',vocab=data_lm.vocab)\n",
    "data_classifier = (TextList.from_csv(path='TrainSet/',csv_name='train_F3WbcTw.csv',cols='text',vocab=data_lm.vocab)\n",
    "       .split_by_rand_pct()\n",
    "       .label_from_df(cols='sentiment')\n",
    "       .add_test(test_datalist)\n",
    "       .databunch(bs=32)\n",
    "       )\n",
    "data_classifier.show_batch()"
   ]
  },
  {
   "cell_type": "code",
   "execution_count": 0,
   "metadata": {
    "id": "dH56muRy0rvp",
    "colab_type": "code",
    "colab": {}
   },
   "outputs": [],
   "source": [
    "learn = language_model_learner(data_lm, AWD_LSTM, drop_mult=0.5)"
   ]
  },
  {
   "cell_type": "code",
   "execution_count": 15,
   "metadata": {
    "id": "sbqY2MPTs3Vt",
    "colab_type": "code",
    "outputId": "4c1afdc0-c116-4257-8908-a329cd8d08e3",
    "colab": {
     "base_uri": "https://localhost:8080/",
     "height": 334.0
    }
   },
   "outputs": [
    {
     "data": {
      "text/html": [
       ""
      ],
      "text/plain": [
       "<IPython.core.display.HTML object>"
      ]
     },
     "metadata": {
      "tags": []
     },
     "output_type": "execute_result"
    },
    {
     "name": "stdout",
     "output_type": "stream",
     "text": [
      "LR Finder is complete, type {learner_name}.recorder.plot() to see the graph.\n",
      "Min numerical gradient: 2.29E-02\n",
      "Min loss divided by 10: 2.09E-02\n"
     ]
    },
    {
     "data": {
      "image/png": "[encoded data removed]",
      "text/plain": [
       "<Figure size 432x288 with 1 Axes>"
      ]
     },
     "metadata": {
      "tags": []
     },
     "output_type": "display_data"
    }
   ],
   "source": [
    "learn.lr_find()\n",
    "learn.recorder.plot(suggestion = True)"
   ]
  },
  {
   "cell_type": "markdown",
   "metadata": {
    "id": "Fbt7HiSLUp3l",
    "colab_type": "text"
   },
   "source": [
    "Max_acc = 0.367909 with lr = 1e-2 and moms"
   ]
  },
  {
   "cell_type": "code",
   "execution_count": 16,
   "metadata": {
    "id": "7YGeD_Ka5OS2",
    "colab_type": "code",
    "outputId": "b29b56da-9ea4-4cc6-f111-9ded8598fa52",
    "colab": {
     "base_uri": "https://localhost:8080/",
     "height": 204.0
    }
   },
   "outputs": [
    {
     "data": {
      "text/html": [
       "<table border=\"1\" class=\"dataframe\">\n",
       "  <thead>\n",
       "    <tr style=\"text-align: left;\">\n",
       "      <th>epoch</th>\n",
       "      <th>train_loss</th>\n",
       "      <th>valid_loss</th>\n",
       "      <th>accuracy</th>\n",
       "      <th>time</th>\n",
       "    </tr>\n",
       "  </thead>\n",
       "  <tbody>\n",
       "    <tr>\n",
       "      <td>0</td>\n",
       "      <td>3.959155</td>\n",
       "      <td>3.756812</td>\n",
       "      <td>0.322613</td>\n",
       "      <td>07:14</td>\n",
       "    </tr>\n",
       "    <tr>\n",
       "      <td>1</td>\n",
       "      <td>3.724066</td>\n",
       "      <td>3.722498</td>\n",
       "      <td>0.328682</td>\n",
       "      <td>07:14</td>\n",
       "    </tr>\n",
       "    <tr>\n",
       "      <td>2</td>\n",
       "      <td>3.721837</td>\n",
       "      <td>3.595104</td>\n",
       "      <td>0.344448</td>\n",
       "      <td>07:14</td>\n",
       "    </tr>\n",
       "    <tr>\n",
       "      <td>3</td>\n",
       "      <td>3.400581</td>\n",
       "      <td>3.483469</td>\n",
       "      <td>0.361072</td>\n",
       "      <td>07:14</td>\n",
       "    </tr>\n",
       "    <tr>\n",
       "      <td>4</td>\n",
       "      <td>3.150612</td>\n",
       "      <td>3.464014</td>\n",
       "      <td>0.365568</td>\n",
       "      <td>07:14</td>\n",
       "    </tr>\n",
       "  </tbody>\n",
       "</table>"
      ],
      "text/plain": [
       "<IPython.core.display.HTML object>"
      ]
     },
     "metadata": {
      "tags": []
     },
     "output_type": "execute_result"
    }
   ],
   "source": [
    "learn.fit_one_cycle(5, 1e-2,moms=(0.8,0.7))"
   ]
  },
  {
   "cell_type": "code",
   "execution_count": 17,
   "metadata": {
    "id": "xyzErPyztK2q",
    "colab_type": "code",
    "outputId": "d382ebf6-0982-47b5-ee10-bf2b37067bf1",
    "colab": {
     "base_uri": "https://localhost:8080/",
     "height": 334.0
    }
   },
   "outputs": [
    {
     "data": {
      "text/html": [
       ""
      ],
      "text/plain": [
       "<IPython.core.display.HTML object>"
      ]
     },
     "metadata": {
      "tags": []
     },
     "output_type": "execute_result"
    },
    {
     "name": "stdout",
     "output_type": "stream",
     "text": [
      "LR Finder is complete, type {learner_name}.recorder.plot() to see the graph.\n",
      "Min numerical gradient: 9.12E-07\n",
      "Min loss divided by 10: 1.00E-04\n"
     ]
    },
    {
     "data": {
      "image/png": "[encoded data removed]",
      "text/plain": [
       "<Figure size 432x288 with 1 Axes>"
      ]
     },
     "metadata": {
      "tags": []
     },
     "output_type": "display_data"
    }
   ],
   "source": [
    "learn.unfreeze()\n",
    "learn.lr_find()\n",
    "learn.recorder.plot(suggestion = True)"
   ]
  },
  {
   "cell_type": "code",
   "execution_count": 18,
   "metadata": {
    "id": "MtHNlVwA5s7l",
    "colab_type": "code",
    "outputId": "b0e2afb4-1bee-4218-ed1b-b5b4fe9d9a9d",
    "colab": {
     "base_uri": "https://localhost:8080/",
     "height": 360.0
    }
   },
   "outputs": [
    {
     "data": {
      "text/html": [
       "\n",
       "    <div>\n",
       "        <style>\n",
       "            /* Turns off some styling */\n",
       "            progress {\n",
       "                /* gets rid of default border in Firefox and Opera. */\n",
       "                border: none;\n",
       "                /* Needs to be in here for Safari polyfill so background images work as expected. */\n",
       "                background-size: auto;\n",
       "            }\n",
       "            .progress-bar-interrupted, .progress-bar-interrupted::-webkit-progress-bar {\n",
       "                background: #F44336;\n",
       "            }\n",
       "        </style>\n",
       "      <progress value='8' class='' max='10', style='width:300px; height:20px; vertical-align: middle;'></progress>\n",
       "      80.00% [8/10 1:07:09<16:47]\n",
       "    </div>\n",
       "    \n",
       "<table border=\"1\" class=\"dataframe\">\n",
       "  <thead>\n",
       "    <tr style=\"text-align: left;\">\n",
       "      <th>epoch</th>\n",
       "      <th>train_loss</th>\n",
       "      <th>valid_loss</th>\n",
       "      <th>accuracy</th>\n",
       "      <th>time</th>\n",
       "    </tr>\n",
       "  </thead>\n",
       "  <tbody>\n",
       "    <tr>\n",
       "      <td>0</td>\n",
       "      <td>3.094923</td>\n",
       "      <td>3.359174</td>\n",
       "      <td>0.377448</td>\n",
       "      <td>08:23</td>\n",
       "    </tr>\n",
       "    <tr>\n",
       "      <td>1</td>\n",
       "      <td>2.724199</td>\n",
       "      <td>3.282258</td>\n",
       "      <td>0.395085</td>\n",
       "      <td>08:23</td>\n",
       "    </tr>\n",
       "    <tr>\n",
       "      <td>2</td>\n",
       "      <td>2.947337</td>\n",
       "      <td>3.234455</td>\n",
       "      <td>0.404565</td>\n",
       "      <td>08:23</td>\n",
       "    </tr>\n",
       "    <tr>\n",
       "      <td>3</td>\n",
       "      <td>2.678552</td>\n",
       "      <td>3.188808</td>\n",
       "      <td>0.418234</td>\n",
       "      <td>08:23</td>\n",
       "    </tr>\n",
       "    <tr>\n",
       "      <td>4</td>\n",
       "      <td>2.720833</td>\n",
       "      <td>3.147860</td>\n",
       "      <td>0.428448</td>\n",
       "      <td>08:23</td>\n",
       "    </tr>\n",
       "    <tr>\n",
       "      <td>5</td>\n",
       "      <td>2.576902</td>\n",
       "      <td>3.127960</td>\n",
       "      <td>0.436032</td>\n",
       "      <td>08:23</td>\n",
       "    </tr>\n",
       "    <tr>\n",
       "      <td>6</td>\n",
       "      <td>2.442683</td>\n",
       "      <td>3.119773</td>\n",
       "      <td>0.442839</td>\n",
       "      <td>08:23</td>\n",
       "    </tr>\n",
       "    <tr>\n",
       "      <td>7</td>\n",
       "      <td>2.026323</td>\n",
       "      <td>3.138744</td>\n",
       "      <td>0.445712</td>\n",
       "      <td>08:24</td>\n",
       "    </tr>\n",
       "  </tbody>\n",
       "</table><p>\n",
       "\n",
       "    <div>\n",
       "        <style>\n",
       "            /* Turns off some styling */\n",
       "            progress {\n",
       "                /* gets rid of default border in Firefox and Opera. */\n",
       "                border: none;\n",
       "                /* Needs to be in here for Safari polyfill so background images work as expected. */\n",
       "                background-size: auto;\n",
       "            }\n",
       "            .progress-bar-interrupted, .progress-bar-interrupted::-webkit-progress-bar {\n",
       "                background: #F44336;\n",
       "            }\n",
       "        </style>\n",
       "      <progress value='53' class='' max='1707', style='width:300px; height:20px; vertical-align: middle;'></progress>\n",
       "      3.10% [53/1707 00:14<07:23 1.9351]\n",
       "    </div>\n",
       "    "
      ],
      "text/plain": [
       "<IPython.core.display.HTML object>"
      ]
     },
     "metadata": {
      "tags": []
     },
     "output_type": "execute_result"
    },
    {
     "name": "stdout",
     "output_type": "stream",
     "text": [
      "Buffered data was truncated after reaching the output size limit."
     ]
    }
   ],
   "source": [
    "learn.fit_one_cycle(10, 1e-3,moms=(0.8,0.7))"
   ]
  },
  {
   "cell_type": "code",
   "execution_count": 0,
   "metadata": {
    "id": "8CtagSsi50lY",
    "colab_type": "code",
    "colab": {}
   },
   "outputs": [],
   "source": [
    "learn.save_encoder('ft_enc')"
   ]
  },
  {
   "cell_type": "code",
   "execution_count": 0,
   "metadata": {
    "id": "vdllQLyr8Vsq",
    "colab_type": "code",
    "colab": {}
   },
   "outputs": [],
   "source": [
    "learn = text_classifier_learner(data_classifier, AWD_LSTM, drop_mult=0.2)\n",
    "learn.load_encoder('ft_enc')\n",
    "# learn.callback_fns = [ShowGraph,partial(SaveModelCallback, monitor='accuracy', name='best_model')]"
   ]
  },
  {
   "cell_type": "code",
   "execution_count": 21,
   "metadata": {
    "id": "tDYtSAId-vG0",
    "colab_type": "code",
    "outputId": "493283ff-f3a1-4efe-d6fd-54efc871ed33",
    "colab": {
     "base_uri": "https://localhost:8080/",
     "height": 334.0
    }
   },
   "outputs": [
    {
     "data": {
      "text/html": [
       ""
      ],
      "text/plain": [
       "<IPython.core.display.HTML object>"
      ]
     },
     "metadata": {
      "tags": []
     },
     "output_type": "execute_result"
    },
    {
     "name": "stdout",
     "output_type": "stream",
     "text": [
      "LR Finder is complete, type {learner_name}.recorder.plot() to see the graph.\n",
      "Min numerical gradient: 8.32E-02\n",
      "Min loss divided by 10: 3.02E-02\n"
     ]
    },
    {
     "data": {
      "image/png": "[encoded data removed]",
      "text/plain": [
       "<Figure size 432x288 with 1 Axes>"
      ]
     },
     "metadata": {
      "tags": []
     },
     "output_type": "display_data"
    }
   ],
   "source": [
    "learn.freeze()\n",
    "learn.lr_find()\n",
    "learn.recorder.plot(suggestion = True)"
   ]
  },
  {
   "cell_type": "code",
   "execution_count": 22,
   "metadata": {
    "id": "Mn_A6jhG_FfO",
    "colab_type": "code",
    "colab": {
     "base_uri": "https://localhost:8080/",
     "height": 142.0
    },
    "outputId": "3d80de7a-f25f-4b9d-9b21-5cf6e7452472"
   },
   "outputs": [
    {
     "data": {
      "text/html": [
       "<table border=\"1\" class=\"dataframe\">\n",
       "  <thead>\n",
       "    <tr style=\"text-align: left;\">\n",
       "      <th>epoch</th>\n",
       "      <th>train_loss</th>\n",
       "      <th>valid_loss</th>\n",
       "      <th>accuracy</th>\n",
       "      <th>time</th>\n",
       "    </tr>\n",
       "  </thead>\n",
       "  <tbody>\n",
       "    <tr>\n",
       "      <td>0</td>\n",
       "      <td>0.762733</td>\n",
       "      <td>0.784385</td>\n",
       "      <td>0.686256</td>\n",
       "      <td>03:22</td>\n",
       "    </tr>\n",
       "    <tr>\n",
       "      <td>1</td>\n",
       "      <td>0.682997</td>\n",
       "      <td>0.722154</td>\n",
       "      <td>0.714692</td>\n",
       "      <td>03:26</td>\n",
       "    </tr>\n",
       "    <tr>\n",
       "      <td>2</td>\n",
       "      <td>0.607554</td>\n",
       "      <td>0.729775</td>\n",
       "      <td>0.722275</td>\n",
       "      <td>03:19</td>\n",
       "    </tr>\n",
       "  </tbody>\n",
       "</table>"
      ],
      "text/plain": [
       "<IPython.core.display.HTML object>"
      ]
     },
     "metadata": {
      "tags": []
     },
     "output_type": "execute_result"
    }
   ],
   "source": [
    "lr = 1e-2\n",
    "learn.fit_one_cycle(3,slice(lr), moms=(0.8, 0.7))"
   ]
  },
  {
   "cell_type": "code",
   "execution_count": 23,
   "metadata": {
    "id": "1EEJQzzA1HpU",
    "colab_type": "code",
    "colab": {
     "base_uri": "https://localhost:8080/",
     "height": 334.0
    },
    "outputId": "71e46a3a-4721-4cb8-8cb7-48a991500d78"
   },
   "outputs": [
    {
     "data": {
      "text/html": [
       ""
      ],
      "text/plain": [
       "<IPython.core.display.HTML object>"
      ]
     },
     "metadata": {
      "tags": []
     },
     "output_type": "execute_result"
    },
    {
     "name": "stdout",
     "output_type": "stream",
     "text": [
      "LR Finder is complete, type {learner_name}.recorder.plot() to see the graph.\n",
      "Min numerical gradient: 9.12E-07\n",
      "Min loss divided by 10: 1.00E-04\n"
     ]
    },
    {
     "data": {
      "image/png": "[encoded data removed]",
      "text/plain": [
       "<Figure size 432x288 with 1 Axes>"
      ]
     },
     "metadata": {
      "tags": []
     },
     "output_type": "display_data"
    }
   ],
   "source": [
    "learn.freeze_to(-2)\n",
    "learn.lr_find()\n",
    "learn.recorder.plot(suggestion = True)"
   ]
  },
  {
   "cell_type": "markdown",
   "metadata": {
    "id": "_4t9j-7DRiyA",
    "colab_type": "text"
   },
   "source": [
    "learn.fit_one_cycle(3, slice(5e-5/2., 5e-5),moms=(0.8,0.7))\n",
    "\n",
    "learn.fit_one_cycle(3, slice(5e-5/(2.6**4), 5e-5),moms=(0.8,0.7)) -- Max_Acc:0.725118"
   ]
  },
  {
   "cell_type": "code",
   "execution_count": 24,
   "metadata": {
    "id": "f30y_Cs6_hY8",
    "colab_type": "code",
    "colab": {
     "base_uri": "https://localhost:8080/",
     "height": 142.0
    },
    "outputId": "df00d04f-4de7-4b14-9554-409ffaa8ff34"
   },
   "outputs": [
    {
     "data": {
      "text/html": [
       "<table border=\"1\" class=\"dataframe\">\n",
       "  <thead>\n",
       "    <tr style=\"text-align: left;\">\n",
       "      <th>epoch</th>\n",
       "      <th>train_loss</th>\n",
       "      <th>valid_loss</th>\n",
       "      <th>accuracy</th>\n",
       "      <th>time</th>\n",
       "    </tr>\n",
       "  </thead>\n",
       "  <tbody>\n",
       "    <tr>\n",
       "      <td>0</td>\n",
       "      <td>0.569552</td>\n",
       "      <td>0.728988</td>\n",
       "      <td>0.723223</td>\n",
       "      <td>03:31</td>\n",
       "    </tr>\n",
       "    <tr>\n",
       "      <td>1</td>\n",
       "      <td>0.553644</td>\n",
       "      <td>0.716168</td>\n",
       "      <td>0.719431</td>\n",
       "      <td>03:33</td>\n",
       "    </tr>\n",
       "    <tr>\n",
       "      <td>2</td>\n",
       "      <td>0.548735</td>\n",
       "      <td>0.707922</td>\n",
       "      <td>0.729858</td>\n",
       "      <td>03:29</td>\n",
       "    </tr>\n",
       "  </tbody>\n",
       "</table>"
      ],
      "text/plain": [
       "<IPython.core.display.HTML object>"
      ]
     },
     "metadata": {
      "tags": []
     },
     "output_type": "execute_result"
    }
   ],
   "source": [
    "learn.fit_one_cycle(3, slice(5e-5/(2.6**4), 5e-5),moms=(0.8,0.7))"
   ]
  },
  {
   "cell_type": "code",
   "execution_count": 25,
   "metadata": {
    "id": "ekh2aMJT1KHc",
    "colab_type": "code",
    "colab": {
     "base_uri": "https://localhost:8080/",
     "height": 334.0
    },
    "outputId": "026202f0-069f-4952-af03-2f33e3296d2f"
   },
   "outputs": [
    {
     "data": {
      "text/html": [
       ""
      ],
      "text/plain": [
       "<IPython.core.display.HTML object>"
      ]
     },
     "metadata": {
      "tags": []
     },
     "output_type": "execute_result"
    },
    {
     "name": "stdout",
     "output_type": "stream",
     "text": [
      "LR Finder is complete, type {learner_name}.recorder.plot() to see the graph.\n",
      "Min numerical gradient: 4.79E-06\n",
      "Min loss divided by 10: 6.92E-07\n"
     ]
    },
    {
     "data": {
      "image/png": "[encoded data removed]",
      "text/plain": [
       "<Figure size 432x288 with 1 Axes>"
      ]
     },
     "metadata": {
      "tags": []
     },
     "output_type": "display_data"
    }
   ],
   "source": [
    "learn.freeze_to(-3)\n",
    "learn.lr_find()\n",
    "learn.recorder.plot(suggestion = True)"
   ]
  },
  {
   "cell_type": "markdown",
   "metadata": {
    "id": "tsLsjV4_mXGn",
    "colab_type": "text"
   },
   "source": [
    "learn.fit_one_cycle(3, slice(5e-5/2., 5e-5),moms=(0.8,0.7)) max_acc = 0.742180"
   ]
  },
  {
   "cell_type": "code",
   "execution_count": 26,
   "metadata": {
    "id": "nUVMKil2_0ss",
    "colab_type": "code",
    "colab": {
     "base_uri": "https://localhost:8080/",
     "height": 142.0
    },
    "outputId": "60714da9-7900-4dd3-9a44-fd20c6314487"
   },
   "outputs": [
    {
     "data": {
      "text/html": [
       "<table border=\"1\" class=\"dataframe\">\n",
       "  <thead>\n",
       "    <tr style=\"text-align: left;\">\n",
       "      <th>epoch</th>\n",
       "      <th>train_loss</th>\n",
       "      <th>valid_loss</th>\n",
       "      <th>accuracy</th>\n",
       "      <th>time</th>\n",
       "    </tr>\n",
       "  </thead>\n",
       "  <tbody>\n",
       "    <tr>\n",
       "      <td>0</td>\n",
       "      <td>0.554439</td>\n",
       "      <td>0.721589</td>\n",
       "      <td>0.723223</td>\n",
       "      <td>04:29</td>\n",
       "    </tr>\n",
       "    <tr>\n",
       "      <td>1</td>\n",
       "      <td>0.559168</td>\n",
       "      <td>0.718459</td>\n",
       "      <td>0.728910</td>\n",
       "      <td>04:22</td>\n",
       "    </tr>\n",
       "    <tr>\n",
       "      <td>2</td>\n",
       "      <td>0.551618</td>\n",
       "      <td>0.720999</td>\n",
       "      <td>0.725118</td>\n",
       "      <td>04:18</td>\n",
       "    </tr>\n",
       "  </tbody>\n",
       "</table>"
      ],
      "text/plain": [
       "<IPython.core.display.HTML object>"
      ]
     },
     "metadata": {
      "tags": []
     },
     "output_type": "execute_result"
    }
   ],
   "source": [
    "learn.fit_one_cycle(3, slice(5e-5/(2.6**4), 5e-5),moms=(0.8,0.7))"
   ]
  },
  {
   "cell_type": "code",
   "execution_count": 27,
   "metadata": {
    "id": "vsCjoP1J1M4j",
    "colab_type": "code",
    "colab": {
     "base_uri": "https://localhost:8080/",
     "height": 334.0
    },
    "outputId": "ba2a3027-4fa8-49cc-d635-dd03357ced97"
   },
   "outputs": [
    {
     "data": {
      "text/html": [
       ""
      ],
      "text/plain": [
       "<IPython.core.display.HTML object>"
      ]
     },
     "metadata": {
      "tags": []
     },
     "output_type": "execute_result"
    },
    {
     "name": "stdout",
     "output_type": "stream",
     "text": [
      "LR Finder is complete, type {learner_name}.recorder.plot() to see the graph.\n",
      "Min numerical gradient: 6.31E-07\n",
      "Min loss divided by 10: 1.58E-07\n"
     ]
    },
    {
     "data": {
      "image/png": "[encoded data removed]",
      "text/plain": [
       "<Figure size 432x288 with 1 Axes>"
      ]
     },
     "metadata": {
      "tags": []
     },
     "output_type": "display_data"
    }
   ],
   "source": [
    "learn.unfreeze()\n",
    "learn.lr_find()\n",
    "learn.recorder.plot(suggestion = True)"
   ]
  },
  {
   "cell_type": "markdown",
   "metadata": {
    "id": "SewPwvMzpQsz",
    "colab_type": "text"
   },
   "source": [
    "Unfreeze:\n",
    "learn.fit_one_cycle(5, slice(2e-5/100, 2e-5),moms=(0.8,0.7)) max_acc = 0.734597\t"
   ]
  },
  {
   "cell_type": "code",
   "execution_count": 28,
   "metadata": {
    "id": "o_wIik1T_ror",
    "colab_type": "code",
    "colab": {
     "base_uri": "https://localhost:8080/",
     "height": 204.0
    },
    "outputId": "b46ca591-3076-4f11-e1d5-e2f0a77bd88c"
   },
   "outputs": [
    {
     "data": {
      "text/html": [
       "<table border=\"1\" class=\"dataframe\">\n",
       "  <thead>\n",
       "    <tr style=\"text-align: left;\">\n",
       "      <th>epoch</th>\n",
       "      <th>train_loss</th>\n",
       "      <th>valid_loss</th>\n",
       "      <th>accuracy</th>\n",
       "      <th>time</th>\n",
       "    </tr>\n",
       "  </thead>\n",
       "  <tbody>\n",
       "    <tr>\n",
       "      <td>0</td>\n",
       "      <td>0.545002</td>\n",
       "      <td>0.724820</td>\n",
       "      <td>0.727014</td>\n",
       "      <td>05:13</td>\n",
       "    </tr>\n",
       "    <tr>\n",
       "      <td>1</td>\n",
       "      <td>0.539673</td>\n",
       "      <td>0.725483</td>\n",
       "      <td>0.726066</td>\n",
       "      <td>05:06</td>\n",
       "    </tr>\n",
       "    <tr>\n",
       "      <td>2</td>\n",
       "      <td>0.524752</td>\n",
       "      <td>0.729635</td>\n",
       "      <td>0.721327</td>\n",
       "      <td>05:06</td>\n",
       "    </tr>\n",
       "    <tr>\n",
       "      <td>3</td>\n",
       "      <td>0.544111</td>\n",
       "      <td>0.725328</td>\n",
       "      <td>0.727962</td>\n",
       "      <td>05:09</td>\n",
       "    </tr>\n",
       "    <tr>\n",
       "      <td>4</td>\n",
       "      <td>0.532222</td>\n",
       "      <td>0.719031</td>\n",
       "      <td>0.726066</td>\n",
       "      <td>05:06</td>\n",
       "    </tr>\n",
       "  </tbody>\n",
       "</table>"
      ],
      "text/plain": [
       "<IPython.core.display.HTML object>"
      ]
     },
     "metadata": {
      "tags": []
     },
     "output_type": "execute_result"
    }
   ],
   "source": [
    "learn.fit_one_cycle(5, slice(2e-5/(2.6**4), 2e-5),moms=(0.8,0.7))"
   ]
  },
  {
   "cell_type": "code",
   "execution_count": 0,
   "metadata": {
    "id": "ytiuX9ThAmK9",
    "colab_type": "code",
    "colab": {}
   },
   "outputs": [],
   "source": [
    "# learn.load('best_model')"
   ]
  },
  {
   "cell_type": "code",
   "execution_count": 30,
   "metadata": {
    "id": "RUvZ1kXrAcaK",
    "colab_type": "code",
    "colab": {
     "base_uri": "https://localhost:8080/",
     "height": 311.0
    },
    "outputId": "4467cb74-61d9-49f0-81ec-01c6cdb0820e"
   },
   "outputs": [
    {
     "data": {
      "image/png": "[encoded data removed]",
      "text/plain": [
       "<Figure size 432x288 with 1 Axes>"
      ]
     },
     "metadata": {
      "tags": []
     },
     "output_type": "display_data"
    }
   ],
   "source": [
    "interpreter = ClassificationInterpretation.from_learner(learn)\n",
    "interpreter.plot_confusion_matrix()"
   ]
  },
  {
   "cell_type": "code",
   "execution_count": 0,
   "metadata": {
    "id": "N9mic3Ch1Vqd",
    "colab_type": "code",
    "colab": {}
   },
   "outputs": [],
   "source": [
    "preds, target = learn.get_preds(DatasetType.Valid, ordered=True)\n",
    "valid_preds = np.argmax(preds, axis =1)"
   ]
  },
  {
   "cell_type": "markdown",
   "metadata": {
    "id": "0EBPUC3W7c9W",
    "colab_type": "text"
   },
   "source": [
    "Version3 F1 Score : 0.440700\n",
    "\n",
    "learn = language_model_learner(data_lm, AWD_LSTM, drop_mult=0.5)\n",
    "\n",
    "learn.fit_one_cycle(5, 1e-2,moms=(0.8,0.7))\n",
    "\n",
    "Unfreeze and learn.fit_one_cycle(10, 1e-3,moms=(0.8,0.7))\n",
    "\n",
    "learn = text_classifier_learner(data_classifier, AWD_LSTM, drop_mult=0.2)\n",
    "\n",
    "freeze\n",
    "lr = 1e-2\n",
    "learn.fit_one_cycle(3,slice(lr), moms=(0.8, 0.7))\n",
    "\n",
    "Freeze_to(-2)\n",
    "learn.fit_one_cycle(3, slice(5e-5/(2.6**4), 5e-5),moms=(0.8,0.7))\n",
    "\n",
    "Freeze_to(-3)\n",
    "learn.fit_one_cycle(3, slice(5e-5/(2.6**4), 5e-5),moms=(0.8,0.7))\n",
    "\n",
    "unfreeze\n",
    "learn.fit_one_cycle(5, slice(2e-5/(2.6**4), 2e-5),moms=(0.8,0.7))"
   ]
  },
  {
   "cell_type": "code",
   "execution_count": 32,
   "metadata": {
    "id": "4F9MlqjH1iT0",
    "colab_type": "code",
    "colab": {
     "base_uri": "https://localhost:8080/",
     "height": 34.0
    },
    "outputId": "7a4a3ab1-69d0-4716-aca0-27ce9b2776e4"
   },
   "outputs": [
    {
     "name": "stdout",
     "output_type": "stream",
     "text": [
      "F1 score: 0.424053\n"
     ]
    }
   ],
   "source": [
    "from sklearn.metrics import f1_score\n",
    "# f1 score\n",
    "score = f1_score(valid_preds, target,average='macro')\n",
    "\n",
    "# print\n",
    "print (\"F1 score: {:.6f}\".format(score))"
   ]
  },
  {
   "cell_type": "code",
   "execution_count": 33,
   "metadata": {
    "id": "dh8Pv9_94KO2",
    "colab_type": "code",
    "colab": {
     "base_uri": "https://localhost:8080/",
     "height": 173.0
    },
    "outputId": "46db7e2c-8a16-497d-a865-3b58117ba1db"
   },
   "outputs": [
    {
     "data": {
      "text/html": [
       "<div>\n",
       "<style scoped>\n",
       "    .dataframe tbody tr th:only-of-type {\n",
       "        vertical-align: middle;\n",
       "    }\n",
       "\n",
       "    .dataframe tbody tr th {\n",
       "        vertical-align: top;\n",
       "    }\n",
       "\n",
       "    .dataframe thead th {\n",
       "        text-align: right;\n",
       "    }\n",
       "</style>\n",
       "<table border=\"1\" class=\"dataframe\">\n",
       "  <thead>\n",
       "    <tr style=\"text-align: right;\">\n",
       "      <th>col_0</th>\n",
       "      <th>0</th>\n",
       "      <th>1</th>\n",
       "      <th>2</th>\n",
       "    </tr>\n",
       "    <tr>\n",
       "      <th>row_0</th>\n",
       "      <th></th>\n",
       "      <th></th>\n",
       "      <th></th>\n",
       "    </tr>\n",
       "  </thead>\n",
       "  <tbody>\n",
       "    <tr>\n",
       "      <th>0</th>\n",
       "      <td>15</td>\n",
       "      <td>2</td>\n",
       "      <td>10</td>\n",
       "    </tr>\n",
       "    <tr>\n",
       "      <th>1</th>\n",
       "      <td>12</td>\n",
       "      <td>28</td>\n",
       "      <td>40</td>\n",
       "    </tr>\n",
       "    <tr>\n",
       "      <th>2</th>\n",
       "      <td>107</td>\n",
       "      <td>118</td>\n",
       "      <td>723</td>\n",
       "    </tr>\n",
       "  </tbody>\n",
       "</table>\n",
       "</div>"
      ],
      "text/plain": [
       "col_0    0    1    2\n",
       "row_0               \n",
       "0       15    2   10\n",
       "1       12   28   40\n",
       "2      107  118  723"
      ]
     },
     "execution_count": 33,
     "metadata": {
      "tags": []
     },
     "output_type": "execute_result"
    }
   ],
   "source": [
    "pd.crosstab(valid_preds, target)"
   ]
  },
  {
   "cell_type": "code",
   "execution_count": 0,
   "metadata": {
    "id": "KCxMZUiJKQaL",
    "colab_type": "code",
    "colab": {}
   },
   "outputs": [],
   "source": [
    "preds, target = learn.get_preds(DatasetType.Test, ordered=True)\n",
    "labels = np.argmax(preds, axis =1)"
   ]
  },
  {
   "cell_type": "code",
   "execution_count": 0,
   "metadata": {
    "id": "o0OliMZMKX7N",
    "colab_type": "code",
    "colab": {}
   },
   "outputs": [],
   "source": [
    "test_id = test_df['unique_hash']"
   ]
  },
  {
   "cell_type": "code",
   "execution_count": 36,
   "metadata": {
    "id": "KEOTBK3tK6Ds",
    "colab_type": "code",
    "colab": {
     "base_uri": "https://localhost:8080/",
     "height": 204.0
    },
    "outputId": "e6ea9381-1d59-4376-c022-b4d77c43bfb0"
   },
   "outputs": [
    {
     "data": {
      "text/html": [
       "<div>\n",
       "<style scoped>\n",
       "    .dataframe tbody tr th:only-of-type {\n",
       "        vertical-align: middle;\n",
       "    }\n",
       "\n",
       "    .dataframe tbody tr th {\n",
       "        vertical-align: top;\n",
       "    }\n",
       "\n",
       "    .dataframe thead th {\n",
       "        text-align: right;\n",
       "    }\n",
       "</style>\n",
       "<table border=\"1\" class=\"dataframe\">\n",
       "  <thead>\n",
       "    <tr style=\"text-align: right;\">\n",
       "      <th></th>\n",
       "      <th>unique_hash</th>\n",
       "      <th>sentiment</th>\n",
       "    </tr>\n",
       "  </thead>\n",
       "  <tbody>\n",
       "    <tr>\n",
       "      <th>0</th>\n",
       "      <td>9e9a8166b84114aca147bf409f6f956635034c08</td>\n",
       "      <td>2</td>\n",
       "    </tr>\n",
       "    <tr>\n",
       "      <th>1</th>\n",
       "      <td>e747e6822c867571afe7b907b51f0f2ca67b0e1a</td>\n",
       "      <td>1</td>\n",
       "    </tr>\n",
       "    <tr>\n",
       "      <th>2</th>\n",
       "      <td>50b6d851bcff4f35afe354937949e9948975adf7</td>\n",
       "      <td>2</td>\n",
       "    </tr>\n",
       "    <tr>\n",
       "      <th>3</th>\n",
       "      <td>7f82ec2176ae6ab0b5d20b5ffc767ac829f384ae</td>\n",
       "      <td>2</td>\n",
       "    </tr>\n",
       "    <tr>\n",
       "      <th>4</th>\n",
       "      <td>8b37d169dee5bdae27060949242fb54feb6a7f7f</td>\n",
       "      <td>2</td>\n",
       "    </tr>\n",
       "  </tbody>\n",
       "</table>\n",
       "</div>"
      ],
      "text/plain": [
       "                                unique_hash  sentiment\n",
       "0  9e9a8166b84114aca147bf409f6f956635034c08          2\n",
       "1  e747e6822c867571afe7b907b51f0f2ca67b0e1a          1\n",
       "2  50b6d851bcff4f35afe354937949e9948975adf7          2\n",
       "3  7f82ec2176ae6ab0b5d20b5ffc767ac829f384ae          2\n",
       "4  8b37d169dee5bdae27060949242fb54feb6a7f7f          2"
      ]
     },
     "execution_count": 36,
     "metadata": {
      "tags": []
     },
     "output_type": "execute_result"
    }
   ],
   "source": [
    "submission = pd.DataFrame({'unique_hash': test_id, 'sentiment': labels})\n",
    "submission.to_csv('submission.csv', index=False)\n",
    "submission.head()"
   ]
  },
  {
   "cell_type": "code",
   "execution_count": 37,
   "metadata": {
    "id": "-OdIXtrQLH7P",
    "colab_type": "code",
    "colab": {
     "base_uri": "https://localhost:8080/",
     "height": 85.0
    },
    "outputId": "8ecd3ce2-7695-4beb-d99e-ca6e85495af2"
   },
   "outputs": [
    {
     "data": {
      "text/plain": [
       "2    2695\n",
       "1     180\n",
       "0      49\n",
       "Name: sentiment, dtype: int64"
      ]
     },
     "execution_count": 37,
     "metadata": {
      "tags": []
     },
     "output_type": "execute_result"
    }
   ],
   "source": [
    "submission['sentiment'].value_counts()"
   ]
  },
  {
   "cell_type": "code",
   "execution_count": 38,
   "metadata": {
    "id": "fPGBazUTMNM7",
    "colab_type": "code",
    "colab": {
     "base_uri": "https://localhost:8080/",
     "height": 374.0
    },
    "outputId": "9c0d107a-47a4-42ae-ba00-80eeabb802c1"
   },
   "outputs": [
    {
     "data": {
      "text/html": [
       "<table border=\"1\" class=\"dataframe\">\n",
       "  <thead>\n",
       "    <tr style=\"text-align: right;\">\n",
       "      <th>text</th>\n",
       "      <th>target</th>\n",
       "      <th>prediction</th>\n",
       "    </tr>\n",
       "  </thead>\n",
       "  <tbody>\n",
       "    <tr>\n",
       "      <td>xxbos xxup serious xxup infections xxmaj patients treated with xxmaj remicade ® are at increased risk for developing serious infections that may lead to hospitalization or death [ see xxmaj warnings and xxmaj precautions ( 5.1 ) and xxmaj adverse xxmaj reactions ( 6.1 ) ] . xxmaj most patients who developed these infections were taking concomitant immunosuppressants such as methotrexate or corticosteroids . xxmaj remicade should be discontinued if</td>\n",
       "      <td>2</td>\n",
       "      <td>2</td>\n",
       "    </tr>\n",
       "    <tr>\n",
       "      <td>xxbos xxmaj written xxmaj january 12 , 2018 xxmaj next : xxmaj let xxmaj us xxmaj try xxmaj home xxmaj ratings xxmaj rate this xxmaj summary xxmaj current xxmaj average xxmaj ratings xxmaj overall quality xxmaj avg : 0 / 5 xxmaj applies to topic xxmaj avg : 0 / 5 xxmaj helpful to me xxmaj avg : 0 / 5 xxmaj underwhelmed xxmaj total xxmaj avg xxmaj rating :</td>\n",
       "      <td>2</td>\n",
       "      <td>2</td>\n",
       "    </tr>\n",
       "    <tr>\n",
       "      <td>xxbos xxmaj genetically - modified neural stem cells ( xxunk ) xxunk with the xxmaj escherichia coli ( xxup e. coli ) suicidal gene cytosine deaminase ( xxup cd ) , with potential antineoplastic adjuvant activity . xxmaj upon xxunk injection , xxup e. coli xxup cd - expressing genetically modified xxunk express the xxup e. coli cytosine deaminase , an enzyme that catalyzes the intracellular conversion of the xxunk</td>\n",
       "      <td>2</td>\n",
       "      <td>2</td>\n",
       "    </tr>\n",
       "    <tr>\n",
       "      <td>xxbos xxunk : a xxmaj urine xxup dna xxmaj methylation xxmaj test for xxmaj early xxmaj detection of xxmaj aggressive xxmaj prostate xxmaj cancer xxup e. o'reilly et al , xxup xxunk xxmaj precision xxmaj oncology , xxmaj january 2019 xxmaj using xxmaj artificial xxmaj intelligence to xxmaj detect xxmaj cervical xxmaj cancer xxup nih xxmaj director 's xxmaj blog , xxmaj january 17 , 2019 xxmaj cancer surgery in</td>\n",
       "      <td>2</td>\n",
       "      <td>2</td>\n",
       "    </tr>\n",
       "    <tr>\n",
       "      <td>xxbos ( in xxup fliks e mab ) xxmaj index xxmaj terms xxmaj avakine xxmaj infliximab , xxmaj recombinant xxmaj infliximab - abda xxmaj infliximab - dyyb xxmaj infliximab - qbtx xxmaj ixifi xxmaj dosage xxmaj forms xxmaj excipient information presented when available ( limited , particularly for generics ) ; consult specific product labeling . xxmaj solution xxmaj reconstituted , xxmaj intravenous : xxmaj inflectra : infliximab - dyyb</td>\n",
       "      <td>2</td>\n",
       "      <td>2</td>\n",
       "    </tr>\n",
       "  </tbody>\n",
       "</table>"
      ],
      "text/plain": [
       "<IPython.core.display.HTML object>"
      ]
     },
     "metadata": {
      "tags": []
     },
     "output_type": "execute_result"
    }
   ],
   "source": [
    "learn.show_results()"
   ]
  },
  {
   "cell_type": "code",
   "execution_count": 0,
   "metadata": {
    "id": "oHYB9pCJLK5Y",
    "colab_type": "code",
    "colab": {}
   },
   "outputs": [],
   "source": [
    "interp = TextClassificationInterpretation.from_learner(learn) "
   ]
  },
  {
   "cell_type": "code",
   "execution_count": 40,
   "metadata": {
    "id": "9mNE4ydIMHPM",
    "colab_type": "code",
    "colab": {
     "base_uri": "https://localhost:8080/",
     "height": 102.0
    },
    "outputId": "c47b02d3-f466-4096-9d5a-71480b98f902"
   },
   "outputs": [
    {
     "data": {
      "text/html": [
       "<span style=\"font-family: monospace;\"><span title=\"0.066\" style=\"background-color: rgba(196, 30, 38, 0.5);\">xxbos</span> <span title=\"0.037\" style=\"background-color: rgba(182, 16, 38, 0.5);\">xxmaj</span> <span title=\"0.194\" style=\"background-color: rgba(241, 104, 64, 0.5);\">hi</span> <span title=\"0.349\" style=\"background-color: rgba(253, 198, 117, 0.5);\">everybody</span> <span title=\"0.067\" style=\"background-color: rgba(198, 32, 38, 0.5);\">,</span> <span title=\"0.071\" style=\"background-color: rgba(200, 33, 38, 0.5);\">xxmaj</span> <span title=\"0.130\" style=\"background-color: rgba(223, 65, 47, 0.5);\">my</span> <span title=\"0.305\" style=\"background-color: rgba(253, 176, 99, 0.5);\">latest</span> <span title=\"0.104\" style=\"background-color: rgba(215, 49, 39, 0.5);\">xxup</span> <span title=\"0.295\" style=\"background-color: rgba(252, 170, 95, 0.5);\">mri</span> <span title=\"0.260\" style=\"background-color: rgba(249, 147, 84, 0.5);\">results</span> <span title=\"0.114\" style=\"background-color: rgba(218, 56, 42, 0.5);\">for</span> <span title=\"0.072\" style=\"background-color: rgba(200, 33, 38, 0.5);\">xxmaj</span> <span title=\"0.262\" style=\"background-color: rgba(249, 149, 85, 0.5);\">brain</span> <span title=\"0.074\" style=\"background-color: rgba(200, 33, 38, 0.5);\">and</span> <span title=\"0.038\" style=\"background-color: rgba(182, 16, 38, 0.5);\">xxmaj</span> <span title=\"0.189\" style=\"background-color: rgba(240, 101, 63, 0.5);\">cervical</span> <span title=\"0.042\" style=\"background-color: rgba(184, 18, 38, 0.5);\">xxmaj</span> <span title=\"0.202\" style=\"background-color: rgba(244, 109, 67, 0.5);\">cord</span> <span title=\"0.107\" style=\"background-color: rgba(216, 51, 40, 0.5);\">are</span> <span title=\"0.118\" style=\"background-color: rgba(220, 58, 43, 0.5);\">in</span> <span title=\"0.116\" style=\"background-color: rgba(218, 56, 42, 0.5);\">and</span> <span title=\"0.125\" style=\"background-color: rgba(222, 63, 46, 0.5);\">my</span> <span title=\"0.132\" style=\"background-color: rgba(223, 65, 47, 0.5);\">next</span> <span title=\"0.075\" style=\"background-color: rgba(202, 35, 38, 0.5);\">xxmaj</span> <span title=\"0.418\" style=\"background-color: rgba(254, 228, 147, 0.5);\">neurologist</span> <span title=\"0.168\" style=\"background-color: rgba(234, 89, 58, 0.5);\">appointment</span> <span title=\"0.069\" style=\"background-color: rgba(198, 32, 38, 0.5);\">is</span> <span title=\"0.074\" style=\"background-color: rgba(200, 33, 38, 0.5);\">in</span> <span title=\"0.050\" style=\"background-color: rgba(188, 22, 38, 0.5);\">the</span> <span title=\"0.061\" style=\"background-color: rgba(194, 28, 38, 0.5);\">next</span> <span title=\"0.099\" style=\"background-color: rgba(214, 47, 38, 0.5);\">couple</span> <span title=\"0.047\" style=\"background-color: rgba(188, 22, 38, 0.5);\">of</span> <span title=\"0.052\" style=\"background-color: rgba(190, 24, 38, 0.5);\">weeks</span> <span title=\"0.017\" style=\"background-color: rgba(172, 7, 38, 0.5);\">.</span> <span title=\"0.024\" style=\"background-color: rgba(176, 11, 38, 0.5);\">xxmaj</span> <span title=\"0.104\" style=\"background-color: rgba(215, 49, 39, 0.5);\">there</span> <span title=\"0.188\" style=\"background-color: rgba(240, 101, 63, 0.5);\">’re</span> <span title=\"0.109\" style=\"background-color: rgba(216, 51, 40, 0.5);\">no</span> <span title=\"0.129\" style=\"background-color: rgba(223, 65, 47, 0.5);\">new</span> <span title=\"0.243\" style=\"background-color: rgba(247, 137, 79, 0.5);\">lesions</span> <span title=\"0.095\" style=\"background-color: rgba(212, 45, 38, 0.5);\">in</span> <span title=\"0.066\" style=\"background-color: rgba(196, 30, 38, 0.5);\">xxmaj</span> <span title=\"0.209\" style=\"background-color: rgba(244, 114, 69, 0.5);\">brain</span> <span title=\"0.094\" style=\"background-color: rgba(212, 45, 38, 0.5);\">/</span> <span title=\"0.044\" style=\"background-color: rgba(186, 20, 38, 0.5);\">xxmaj</span> <span title=\"0.092\" style=\"background-color: rgba(210, 43, 38, 0.5);\">cord</span> <span title=\"0.031\" style=\"background-color: rgba(178, 13, 38, 0.5);\">and</span> <span title=\"0.062\" style=\"background-color: rgba(194, 28, 38, 0.5);\">i</span> <span title=\"0.113\" style=\"background-color: rgba(218, 56, 42, 0.5);\">’ve</span> <span title=\"0.055\" style=\"background-color: rgba(190, 24, 38, 0.5);\">had</span> <span title=\"0.076\" style=\"background-color: rgba(202, 35, 38, 0.5);\">no</span> <span title=\"0.151\" style=\"background-color: rgba(229, 77, 52, 0.5);\">relapses</span> <span title=\"0.097\" style=\"background-color: rgba(212, 45, 38, 0.5);\">while</span> <span title=\"0.073\" style=\"background-color: rgba(200, 33, 38, 0.5);\">i</span> <span title=\"0.068\" style=\"background-color: rgba(198, 32, 38, 0.5);\">was</span> <span title=\"0.041\" style=\"background-color: rgba(184, 18, 38, 0.5);\">on</span> <span title=\"0.033\" style=\"background-color: rgba(180, 15, 38, 0.5);\">xxmaj</span> <span title=\"0.093\" style=\"background-color: rgba(210, 43, 38, 0.5);\">gilenya</span> <span title=\"0.011\" style=\"background-color: rgba(168, 3, 38, 0.5);\">.</span> <span title=\"0.018\" style=\"background-color: rgba(172, 7, 38, 0.5);\">xxmaj</span> <span title=\"0.043\" style=\"background-color: rgba(186, 20, 38, 0.5);\">this</span> <span title=\"0.049\" style=\"background-color: rgba(188, 22, 38, 0.5);\">was</span> <span title=\"0.037\" style=\"background-color: rgba(182, 16, 38, 0.5);\">a</span> <span title=\"0.092\" style=\"background-color: rgba(210, 43, 38, 0.5);\">good</span> <span title=\"0.124\" style=\"background-color: rgba(221, 61, 45, 0.5);\">sign</span> <span title=\"0.019\" style=\"background-color: rgba(172, 7, 38, 0.5);\">.</span> <span title=\"0.017\" style=\"background-color: rgba(172, 7, 38, 0.5);\">xxmaj</span> <span title=\"0.039\" style=\"background-color: rgba(184, 18, 38, 0.5);\">but</span> <span title=\"0.055\" style=\"background-color: rgba(190, 24, 38, 0.5);\">there</span> <span title=\"0.050\" style=\"background-color: rgba(188, 22, 38, 0.5);\">was</span> <span title=\"0.081\" style=\"background-color: rgba(204, 37, 38, 0.5);\">one</span> <span title=\"0.181\" style=\"background-color: rgba(238, 97, 61, 0.5);\">line</span> <span title=\"0.072\" style=\"background-color: rgba(200, 33, 38, 0.5);\">in</span> <span title=\"0.057\" style=\"background-color: rgba(192, 26, 38, 0.5);\">the</span> <span title=\"0.268\" style=\"background-color: rgba(250, 152, 86, 0.5);\">cervical</span> <span title=\"0.142\" style=\"background-color: rgba(226, 73, 50, 0.5);\">cord</span> <span title=\"0.137\" style=\"background-color: rgba(225, 70, 49, 0.5);\">review</span> <span title=\"0.065\" style=\"background-color: rgba(196, 30, 38, 0.5);\">that</span> <span title=\"0.173\" style=\"background-color: rgba(236, 92, 59, 0.5);\">concerned</span> <span title=\"0.040\" style=\"background-color: rgba(184, 18, 38, 0.5);\">me</span> <span title=\"0.017\" style=\"background-color: rgba(172, 7, 38, 0.5);\">.</span> <span title=\"0.016\" style=\"background-color: rgba(172, 7, 38, 0.5);\">xxmaj</span> <span title=\"0.054\" style=\"background-color: rgba(190, 24, 38, 0.5);\">it</span> <span title=\"0.172\" style=\"background-color: rgba(236, 92, 59, 0.5);\">goes</span> <span title=\"0.081\" style=\"background-color: rgba(204, 37, 38, 0.5);\">:</span> <span title=\"0.148\" style=\"background-color: rgba(228, 75, 51, 0.5);\">“</span> <span title=\"0.068\" style=\"background-color: rgba(198, 32, 38, 0.5);\">xxmaj</span> <span title=\"0.320\" style=\"background-color: rgba(253, 182, 104, 0.5);\">lesions</span> <span title=\"0.115\" style=\"background-color: rgba(218, 56, 42, 0.5);\">at</span> <span title=\"0.128\" style=\"background-color: rgba(222, 63, 46, 0.5);\">xxup</span> <span title=\"1.000\" style=\"background-color: rgba(0, 104, 55, 0.5);\">c2</span> <span title=\"0.066\" style=\"background-color: rgba(196, 30, 38, 0.5);\">-</span> <span title=\"0.076\" style=\"background-color: rgba(202, 35, 38, 0.5);\">3</span> <span title=\"0.070\" style=\"background-color: rgba(198, 32, 38, 0.5);\">and</span> <span title=\"0.080\" style=\"background-color: rgba(204, 37, 38, 0.5);\">xxup</span> <span title=\"0.497\" style=\"background-color: rgba(254, 254, 189, 0.5);\">t2</span> <span title=\"0.152\" style=\"background-color: rgba(230, 80, 53, 0.5);\">now</span> <span title=\"0.159\" style=\"background-color: rgba(231, 82, 54, 0.5);\">show</span> <span title=\"0.178\" style=\"background-color: rgba(237, 94, 60, 0.5);\">xxunk</span> <span title=\"0.101\" style=\"background-color: rgba(214, 47, 38, 0.5);\">on</span> <span title=\"0.062\" style=\"background-color: rgba(194, 28, 38, 0.5);\">the</span> <span title=\"0.197\" style=\"background-color: rgba(242, 106, 65, 0.5);\">post</span> <span title=\"0.487\" style=\"background-color: rgba(254, 250, 183, 0.5);\">gadolinium</span> <span title=\"0.154\" style=\"background-color: rgba(230, 80, 53, 0.5);\">xxup</span> <span title=\"0.189\" style=\"background-color: rgba(240, 101, 63, 0.5);\">t1</span> <span title=\"0.058\" style=\"background-color: rgba(192, 26, 38, 0.5);\">images</span> <span title=\"0.028\" style=\"background-color: rgba(178, 13, 38, 0.5);\">only</span> <span title=\"0.014\" style=\"background-color: rgba(170, 5, 38, 0.5);\">.</span> <span title=\"0.018\" style=\"background-color: rgba(172, 7, 38, 0.5);\">xxmaj</span> <span title=\"0.049\" style=\"background-color: rgba(188, 22, 38, 0.5);\">this</span> <span title=\"0.118\" style=\"background-color: rgba(220, 58, 43, 0.5);\">could</span> <span title=\"0.330\" style=\"background-color: rgba(253, 188, 109, 0.5);\">represent</span> <span title=\"0.169\" style=\"background-color: rgba(234, 89, 58, 0.5);\">xxunk</span> <span title=\"0.107\" style=\"background-color: rgba(216, 51, 40, 0.5);\">or</span> <span title=\"0.232\" style=\"background-color: rgba(246, 129, 76, 0.5);\">early</span> <span title=\"0.392\" style=\"background-color: rgba(253, 220, 135, 0.5);\">axonal</span> <span title=\"0.034\" style=\"background-color: rgba(180, 15, 38, 0.5);\">loss</span> <span title=\"0.015\" style=\"background-color: rgba(170, 5, 38, 0.5);\">.</span> <span title=\"0.038\" style=\"background-color: rgba(182, 16, 38, 0.5);\">”</span> <span title=\"0.027\" style=\"background-color: rgba(176, 11, 38, 0.5);\">xxmaj</span> <span title=\"0.049\" style=\"background-color: rgba(188, 22, 38, 0.5);\">that</span> <span title=\"0.078\" style=\"background-color: rgba(202, 35, 38, 0.5);\">was</span> <span title=\"0.342\" style=\"background-color: rgba(253, 194, 114, 0.5);\">bothersome</span> <span title=\"0.065\" style=\"background-color: rgba(196, 30, 38, 0.5);\">to</span> <span title=\"0.049\" style=\"background-color: rgba(188, 22, 38, 0.5);\">read</span> <span title=\"0.017\" style=\"background-color: rgba(172, 7, 38, 0.5);\">.</span> <span title=\"0.016\" style=\"background-color: rgba(172, 7, 38, 0.5);\">xxmaj</span> <span title=\"0.096\" style=\"background-color: rgba(212, 45, 38, 0.5);\">what</span> <span title=\"0.084\" style=\"background-color: rgba(206, 39, 38, 0.5);\">are</span> <span title=\"0.061\" style=\"background-color: rgba(194, 28, 38, 0.5);\">the</span> <span title=\"0.150\" style=\"background-color: rgba(229, 77, 52, 0.5);\">kind</span> <span title=\"0.051\" style=\"background-color: rgba(190, 24, 38, 0.5);\">of</span> <span title=\"0.131\" style=\"background-color: rgba(223, 65, 47, 0.5);\">symptoms</span> <span title=\"0.043\" style=\"background-color: rgba(186, 20, 38, 0.5);\">from</span> <span title=\"0.036\" style=\"background-color: rgba(182, 16, 38, 0.5);\">xxup</span> <span title=\"0.092\" style=\"background-color: rgba(210, 43, 38, 0.5);\">xxunk</span> <span title=\"0.196\" style=\"background-color: rgba(242, 106, 65, 0.5);\">lesion</span> <span title=\"0.059\" style=\"background-color: rgba(194, 28, 38, 0.5);\">should</span> <span title=\"0.046\" style=\"background-color: rgba(186, 20, 38, 0.5);\">i</span> <span title=\"0.035\" style=\"background-color: rgba(182, 16, 38, 0.5);\">be</span> <span title=\"0.048\" style=\"background-color: rgba(188, 22, 38, 0.5);\">aware</span> <span title=\"0.010\" style=\"background-color: rgba(168, 3, 38, 0.5);\">of</span> <span title=\"0.026\" style=\"background-color: rgba(176, 11, 38, 0.5);\">?</span> <span title=\"0.020\" style=\"background-color: rgba(174, 9, 38, 0.5);\">xxmaj</span> <span title=\"0.067\" style=\"background-color: rgba(198, 32, 38, 0.5);\">would</span> <span title=\"0.050\" style=\"background-color: rgba(188, 22, 38, 0.5);\">it</span> <span title=\"0.096\" style=\"background-color: rgba(212, 45, 38, 0.5);\">result</span> <span title=\"0.054\" style=\"background-color: rgba(190, 24, 38, 0.5);\">in</span> <span title=\"0.161\" style=\"background-color: rgba(232, 85, 56, 0.5);\">change</span> <span title=\"0.048\" style=\"background-color: rgba(188, 22, 38, 0.5);\">of</span> <span title=\"0.066\" style=\"background-color: rgba(196, 30, 38, 0.5);\">my</span> <span title=\"0.066\" style=\"background-color: rgba(196, 30, 38, 0.5);\">xxup</span> <span title=\"0.214\" style=\"background-color: rgba(245, 116, 70, 0.5);\">dmt</span> <span title=\"0.054\" style=\"background-color: rgba(190, 24, 38, 0.5);\">?</span> <span title=\"0.051\" style=\"background-color: rgba(190, 24, 38, 0.5);\">xxmaj</span> <span title=\"0.308\" style=\"background-color: rgba(253, 176, 99, 0.5);\">thanks</span> <span title=\"0.149\" style=\"background-color: rgba(229, 77, 52, 0.5);\">.</span></span>"
      ],
      "text/plain": [
       "<IPython.core.display.HTML object>"
      ]
     },
     "metadata": {
      "tags": []
     },
     "output_type": "execute_result"
    }
   ],
   "source": [
    "interp.show_intrinsic_attention(\"Hi everybody, My latest MRI results for Brain and Cervical Cord are in and my next Neurologist appointment is in the next couple of weeks. There’re no new lesions in Brain/Cord and I’ve had no relapses while I was on Gilenya. This was a good sign. But there was one line in the cervical cord review that concerned me. It goes : “Lesions at C2-3 and T2 now show hypointensity on the post gadolinium T1 images only. This could represent artifact or early axonal loss.” That was bothersome to read. What are the kind of symptoms from C2-C3 lesion should I be aware of ? Would it result in change of my DMT ? Thanks.\")"
   ]
  },
  {
   "cell_type": "code",
   "execution_count": 41,
   "metadata": {
    "id": "DrcpTQ-jM3HI",
    "colab_type": "code",
    "colab": {
     "base_uri": "https://localhost:8080/",
     "height": 34.0
    },
    "outputId": "0e91e306-d5bd-4c7d-df4f-035e9b0ec659"
   },
   "outputs": [
    {
     "data": {
      "text/plain": [
       "(Category 2, tensor(2), tensor([0.1080, 0.3315, 0.5605]))"
      ]
     },
     "execution_count": 41,
     "metadata": {
      "tags": []
     },
     "output_type": "execute_result"
    }
   ],
   "source": [
    "learn.predict(\"Hi everybody, My latest MRI results for Brain and Cervical Cord are in and my next Neurologist appointment is in the next couple of weeks. There’re no new lesions in Brain/Cord and I’ve had no relapses while I was on Gilenya. This was a good sign. But there was one line in the cervical cord review that concerned me. It goes : “Lesions at C2-3 and T2 now show hypointensity on the post gadolinium T1 images only. This could represent artifact or early axonal loss.” That was bothersome to read. What are the kind of symptoms from C2-C3 lesion should I be aware of ? Would it result in change of my DMT ? Thanks.\")"
   ]
  },
  {
   "cell_type": "code",
   "execution_count": 0,
   "metadata": {
    "id": "5LlOQFXkBPIp",
    "colab_type": "code",
    "colab": {}
   },
   "outputs": [],
   "source": [
    "# for unique_id in tqdm(test_df['unique_hash'].values):\n",
    "# #   print(unique_id)\n",
    "#   filter = test_df[\"unique_hash\"]==unique_id\n",
    "#   df = test_df.where(filter)  \n",
    "#   pred = learn.predict(df['text'][0])\n",
    "# #   print(pred[0])\n",
    "#   sample_df['sentiment'][sample_df['unique_hash'] == unique_id] = pred[0]\n",
    "# #   print(type(pred))\n",
    "# #   break\n",
    "  \n",
    "# sample_df.head()"
   ]
  },
  {
   "cell_type": "code",
   "execution_count": 0,
   "metadata": {
    "id": "EOwW849fU8ba",
    "colab_type": "code",
    "colab": {}
   },
   "outputs": [],
   "source": [
    "# sample_df['sentiment'].value_counts()"
   ]
  },
  {
   "cell_type": "code",
   "execution_count": 0,
   "metadata": {
    "id": "j00vlqIJbsRw",
    "colab_type": "code",
    "colab": {}
   },
   "outputs": [],
   "source": [
    "# sample_df.to_csv(output_dir+r'/Submission_fastai_v2.csv',index=False)"
   ]
  },
  {
   "cell_type": "code",
   "execution_count": 0,
   "metadata": {
    "id": "C9AUaI5SggSv",
    "colab_type": "code",
    "colab": {}
   },
   "outputs": [],
   "source": [
    ""
   ]
  }
 ],
 "metadata": {
  "colab": {
   "name": "AV_Sentiment_Analysis_Innoplexus_fastai.ipynb",
   "version": "0.3.2",
   "provenance": [],
   "collapsed_sections": []
  },
  "kernelspec": {
   "name": "python3",
   "display_name": "Python 3"
  },
  "accelerator": "GPU"
 },
 "nbformat": 4,
 "nbformat_minor": 0
}
